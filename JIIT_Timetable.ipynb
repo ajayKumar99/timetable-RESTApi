{
  "nbformat": 4,
  "nbformat_minor": 0,
  "metadata": {
    "colab": {
      "name": "JIIT Timetable.ipynb",
      "version": "0.3.2",
      "provenance": [],
      "collapsed_sections": []
    },
    "kernelspec": {
      "name": "python3",
      "display_name": "Python 3"
    },
    "accelerator": "GPU"
  },
  "cells": [
    {
      "cell_type": "code",
      "metadata": {
        "id": "yigJO3hOsSkQ",
        "colab_type": "code",
        "colab": {}
      },
      "source": [
        "import pandas as pd\n",
        "import numpy as np\n",
        "import os\n"
      ],
      "execution_count": 0,
      "outputs": []
    },
    {
      "cell_type": "code",
      "metadata": {
        "id": "rozRzCZ7sZ1_",
        "colab_type": "code",
        "colab": {}
      },
      "source": [
        "from google.colab import files"
      ],
      "execution_count": 0,
      "outputs": []
    },
    {
      "cell_type": "code",
      "metadata": {
        "id": "ELoFr7SEsh-2",
        "colab_type": "code",
        "outputId": "ba9ecad8-5d5c-47e8-9a13-efff94d472b5",
        "colab": {
          "resources": {
            "http://localhost:8080/nbextensions/google.colab/files.js": {
              "data": "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",
              "ok": true,
              "headers": [
                [
                  "content-type",
                  "application/javascript"
                ]
              ],
              "status": 200,
              "status_text": ""
            }
          },
          "base_uri": "https://localhost:8080/",
          "height": 74
        }
      },
      "source": [
        "xlsx_root = files.upload()"
      ],
      "execution_count": 0,
      "outputs": [
        {
          "output_type": "display_data",
          "data": {
            "text/html": [
              "\n",
              "     <input type=\"file\" id=\"files-d07a174c-24cc-4d98-b7d5-56a02d8032e9\" name=\"files[]\" multiple disabled />\n",
              "     <output id=\"result-d07a174c-24cc-4d98-b7d5-56a02d8032e9\">\n",
              "      Upload widget is only available when the cell has been executed in the\n",
              "      current browser session. Please rerun this cell to enable.\n",
              "      </output>\n",
              "      <script src=\"/nbextensions/google.colab/files.js\"></script> "
            ],
            "text/plain": [
              "<IPython.core.display.HTML object>"
            ]
          },
          "metadata": {
            "tags": []
          }
        },
        {
          "output_type": "stream",
          "text": [
            "Saving B.TECH V sem.xlsx to B.TECH V sem.xlsx\n"
          ],
          "name": "stdout"
        }
      ]
    },
    {
      "cell_type": "code",
      "metadata": {
        "id": "0-fhUac5sn14",
        "colab_type": "code",
        "outputId": "bde139a9-760b-47f2-eb39-7df841727cc2",
        "colab": {
          "base_uri": "https://localhost:8080/",
          "height": 34
        }
      },
      "source": [
        "!ls ."
      ],
      "execution_count": 0,
      "outputs": [
        {
          "output_type": "stream",
          "text": [
            "'B.TECH V sem.xlsx'   sample_data\n"
          ],
          "name": "stdout"
        }
      ]
    },
    {
      "cell_type": "code",
      "metadata": {
        "id": "-1mog8LotW_5",
        "colab_type": "code",
        "colab": {}
      },
      "source": [
        "xlsx_df = pd.read_excel('B.TECH V sem.xlsx' , header=1)"
      ],
      "execution_count": 0,
      "outputs": []
    },
    {
      "cell_type": "code",
      "metadata": {
        "id": "EUfPSRf3uXcc",
        "colab_type": "code",
        "colab": {}
      },
      "source": [
        "course_desc = xlsx_df[xlsx_df['9 -9.50 AM'] == 'NOTE: COURSE CODES MENTIONED IN THE TIMETABLE ABOVE SHOULD BE READ AS FOLLOWING'].index[0]\n",
        "monday = xlsx_df[xlsx_df['Unnamed: 0'] == 'MON'].index[0]\n",
        "tuesday = xlsx_df[xlsx_df['Unnamed: 0'] == 'TUES'].index[0]\n",
        "wednesday = xlsx_df[xlsx_df['Unnamed: 0'] == 'WED'].index[0]\n",
        "thursday = xlsx_df[xlsx_df['Unnamed: 0'] == 'THUR'].index[0]\n",
        "friday = xlsx_df[xlsx_df['Unnamed: 0'] == 'FRI'].index[0]\n",
        "saturday = xlsx_df[xlsx_df['Unnamed: 0'] == 'SAT'].index[0]\n",
        "monday_df = xlsx_df[:tuesday].drop(columns=['Unnamed: 0' , '12 NOON-12.50 PM'])\n",
        "tuesday_df = xlsx_df[tuesday:wednesday].drop(columns=['Unnamed: 0' , '12 NOON-12.50 PM'])\n",
        "wednesday_df = xlsx_df[wednesday:thursday].drop(columns=['Unnamed: 0' , '12 NOON-12.50 PM'])\n",
        "thursday_df = xlsx_df[thursday:friday].drop(columns=['Unnamed: 0' , '12 NOON-12.50 PM'])\n",
        "friday_df = xlsx_df[friday:saturday].drop(columns=['Unnamed: 0' , '12 NOON-12.50 PM'])\n",
        "saturday_df = xlsx_df[saturday:course_desc].drop(columns=['Unnamed: 0' , '12 NOON-12.50 PM'])"
      ],
      "execution_count": 0,
      "outputs": []
    },
    {
      "cell_type": "code",
      "metadata": {
        "id": "rV-xhknscVdz",
        "colab_type": "code",
        "outputId": "ad306b67-4d26-46d7-da7d-0aee631a54ba",
        "colab": {
          "base_uri": "https://localhost:8080/",
          "height": 669
        }
      },
      "source": [
        "course_details_df = xlsx_df[course_desc+1 :].drop(columns=['Unnamed: 0' , '9 -9.50 AM' , '12 NOON-12.50 PM' , '1- 1.50 PM' , '4-4.50 PM'])\n",
        "header = course_details_df.iloc[0]\n",
        "course_details_df = course_details_df[1:]\n",
        "course_details_df = course_details_df.rename(columns=header)\n",
        "course_details_df"
      ],
      "execution_count": 0,
      "outputs": [
        {
          "output_type": "execute_result",
          "data": {
            "text/html": [
              "<div>\n",
              "<style scoped>\n",
              "    .dataframe tbody tr th:only-of-type {\n",
              "        vertical-align: middle;\n",
              "    }\n",
              "\n",
              "    .dataframe tbody tr th {\n",
              "        vertical-align: top;\n",
              "    }\n",
              "\n",
              "    .dataframe thead th {\n",
              "        text-align: right;\n",
              "    }\n",
              "</style>\n",
              "<table border=\"1\" class=\"dataframe\">\n",
              "  <thead>\n",
              "    <tr style=\"text-align: right;\">\n",
              "      <th></th>\n",
              "      <th>Complete Course Code</th>\n",
              "      <th>Subject Name</th>\n",
              "      <th>Complete Course Code</th>\n",
              "      <th>Subject Name</th>\n",
              "    </tr>\n",
              "  </thead>\n",
              "  <tbody>\n",
              "    <tr>\n",
              "      <th>84</th>\n",
              "      <td>16B1NHS531</td>\n",
              "      <td>Sociology of Youth</td>\n",
              "      <td>15B11CI511</td>\n",
              "      <td>Computer Networks</td>\n",
              "    </tr>\n",
              "    <tr>\n",
              "      <th>85</th>\n",
              "      <td>17B1NHS531</td>\n",
              "      <td>Technology and Culture</td>\n",
              "      <td>15B11CI513</td>\n",
              "      <td>Software Engineering</td>\n",
              "    </tr>\n",
              "    <tr>\n",
              "      <th>86</th>\n",
              "      <td>19B12HS311</td>\n",
              "      <td>Entreprenurial Development</td>\n",
              "      <td>15B11CI514</td>\n",
              "      <td>Artificial Intelligence</td>\n",
              "    </tr>\n",
              "    <tr>\n",
              "      <th>87</th>\n",
              "      <td>18B12HS311</td>\n",
              "      <td>Strategic Human Resource Management</td>\n",
              "      <td>15B22CI521</td>\n",
              "      <td>Cloud based Enterprise Systems</td>\n",
              "    </tr>\n",
              "    <tr>\n",
              "      <th>88</th>\n",
              "      <td>15B1NHS434</td>\n",
              "      <td>Principles of Management</td>\n",
              "      <td>15B17CI571</td>\n",
              "      <td>Computer Networks Lab</td>\n",
              "    </tr>\n",
              "    <tr>\n",
              "      <th>89</th>\n",
              "      <td>16B1NHS532</td>\n",
              "      <td>Planning and Economic Development</td>\n",
              "      <td>15B17CI573</td>\n",
              "      <td>Software Engineering Lab</td>\n",
              "    </tr>\n",
              "    <tr>\n",
              "      <th>90</th>\n",
              "      <td>18B12HS612</td>\n",
              "      <td>Indian Polity and Constitutional Democracy in ...</td>\n",
              "      <td>15B17CI574</td>\n",
              "      <td>Artificial Intelligence   Lab</td>\n",
              "    </tr>\n",
              "    <tr>\n",
              "      <th>91</th>\n",
              "      <td>NaN</td>\n",
              "      <td>NaN</td>\n",
              "      <td>15B17CI575</td>\n",
              "      <td>Open Source Software Lab</td>\n",
              "    </tr>\n",
              "    <tr>\n",
              "      <th>92</th>\n",
              "      <td>16B1NMA531</td>\n",
              "      <td>Discrete Mathematics</td>\n",
              "      <td>15B17CI576</td>\n",
              "      <td>Information Security Lab</td>\n",
              "    </tr>\n",
              "    <tr>\n",
              "      <th>93</th>\n",
              "      <td>17B1NMA531</td>\n",
              "      <td>Basic Numerical Methods</td>\n",
              "      <td>15B28CI581</td>\n",
              "      <td>Cloud based Enterprise Systems Lab</td>\n",
              "    </tr>\n",
              "    <tr>\n",
              "      <th>94</th>\n",
              "      <td>16B1NMA533</td>\n",
              "      <td>Matrix Computations</td>\n",
              "      <td>15B28CI582</td>\n",
              "      <td>Multimedia Lab</td>\n",
              "    </tr>\n",
              "    <tr>\n",
              "      <th>95</th>\n",
              "      <td>16B1NMA731</td>\n",
              "      <td>Theory of Numbers</td>\n",
              "      <td>15B17CI579</td>\n",
              "      <td>Unix Programing Lab</td>\n",
              "    </tr>\n",
              "    <tr>\n",
              "      <th>96</th>\n",
              "      <td>16B1NPH531</td>\n",
              "      <td>Quantum Mechanics for Engineers</td>\n",
              "      <td>NaN</td>\n",
              "      <td>NaN</td>\n",
              "    </tr>\n",
              "    <tr>\n",
              "      <th>97</th>\n",
              "      <td>16B1NPH532</td>\n",
              "      <td>Materials Science</td>\n",
              "      <td>16B17BT571</td>\n",
              "      <td>IT Practice Lab</td>\n",
              "    </tr>\n",
              "    <tr>\n",
              "      <th>98</th>\n",
              "      <td>16B1NPH533</td>\n",
              "      <td>Laser Technology and Applications</td>\n",
              "      <td>15B11BT511</td>\n",
              "      <td>Cell Culture Technology</td>\n",
              "    </tr>\n",
              "    <tr>\n",
              "      <th>99</th>\n",
              "      <td>16B1NPH534</td>\n",
              "      <td>Bio-Materials Science</td>\n",
              "      <td>15B11BT512</td>\n",
              "      <td>Fermentation and Downstream Processing</td>\n",
              "    </tr>\n",
              "    <tr>\n",
              "      <th>100</th>\n",
              "      <td>16B1NPH535</td>\n",
              "      <td>Nuclear Science and Engineering</td>\n",
              "      <td>15B17BT571</td>\n",
              "      <td>Cell culture Lab</td>\n",
              "    </tr>\n",
              "    <tr>\n",
              "      <th>101</th>\n",
              "      <td>NaN</td>\n",
              "      <td>NaN</td>\n",
              "      <td>15B17BT572</td>\n",
              "      <td>Fermentation and Downstream Lab</td>\n",
              "    </tr>\n",
              "    <tr>\n",
              "      <th>102</th>\n",
              "      <td>15B11EC511</td>\n",
              "      <td>Digital Communications</td>\n",
              "      <td>15B17BT573</td>\n",
              "      <td>Plant Tissue Culture Lab</td>\n",
              "    </tr>\n",
              "    <tr>\n",
              "      <th>103</th>\n",
              "      <td>15B17EC571</td>\n",
              "      <td>Digital Communications Lab</td>\n",
              "      <td>15B11GE301</td>\n",
              "      <td>Environmental Science</td>\n",
              "    </tr>\n",
              "    <tr>\n",
              "      <th>104</th>\n",
              "      <td>15B11EC612</td>\n",
              "      <td>Eletromagnetic Theory</td>\n",
              "      <td>NaN</td>\n",
              "      <td>NaN</td>\n",
              "    </tr>\n",
              "  </tbody>\n",
              "</table>\n",
              "</div>"
            ],
            "text/plain": [
              "    Complete Course Code  ...                             Subject Name\n",
              "84            16B1NHS531  ...                        Computer Networks\n",
              "85            17B1NHS531  ...                     Software Engineering\n",
              "86            19B12HS311  ...               Artificial Intelligence   \n",
              "87            18B12HS311  ...           Cloud based Enterprise Systems\n",
              "88            15B1NHS434  ...                    Computer Networks Lab\n",
              "89            16B1NHS532  ...                 Software Engineering Lab\n",
              "90            18B12HS612  ...            Artificial Intelligence   Lab\n",
              "91                   NaN  ...                 Open Source Software Lab\n",
              "92            16B1NMA531  ...                 Information Security Lab\n",
              "93            17B1NMA531  ...       Cloud based Enterprise Systems Lab\n",
              "94            16B1NMA533  ...                           Multimedia Lab\n",
              "95            16B1NMA731  ...                      Unix Programing Lab\n",
              "96            16B1NPH531  ...                                      NaN\n",
              "97            16B1NPH532  ...                         IT Practice Lab \n",
              "98            16B1NPH533  ...                 Cell Culture Technology \n",
              "99            16B1NPH534  ...  Fermentation and Downstream Processing \n",
              "100           16B1NPH535  ...                        Cell culture Lab \n",
              "101                  NaN  ...         Fermentation and Downstream Lab \n",
              "102           15B11EC511  ...                Plant Tissue Culture Lab \n",
              "103           15B17EC571  ...                    Environmental Science\n",
              "104           15B11EC612  ...                                      NaN\n",
              "\n",
              "[21 rows x 4 columns]"
            ]
          },
          "metadata": {
            "tags": []
          },
          "execution_count": 7
        }
      ]
    },
    {
      "cell_type": "code",
      "metadata": {
        "id": "AhIksGCDei4d",
        "colab_type": "code",
        "colab": {}
      },
      "source": [
        "xtra1 = course_details_df.iloc[: , 0:2]\n",
        "xtra2 = course_details_df.iloc[: , 2:]\n",
        "course_ids = xtra1.append(xtra2 , ignore_index=True)"
      ],
      "execution_count": 0,
      "outputs": []
    },
    {
      "cell_type": "code",
      "metadata": {
        "id": "gA5wyf1piQ7o",
        "colab_type": "code",
        "colab": {}
      },
      "source": [
        "course_map = {}"
      ],
      "execution_count": 0,
      "outputs": []
    },
    {
      "cell_type": "code",
      "metadata": {
        "id": "nnrxCKN6hYCD",
        "colab_type": "code",
        "colab": {}
      },
      "source": [
        "for r , c in course_ids.iterrows():\n",
        "  if str(c['Subject Name']) != 'nan':\n",
        "    course_map[c['Subject Name'].upper()] = c['Complete Course Code']"
      ],
      "execution_count": 0,
      "outputs": []
    },
    {
      "cell_type": "code",
      "metadata": {
        "id": "GSr7Q6DFiUFT",
        "colab_type": "code",
        "outputId": "5213a8fd-c03a-42bf-d6f6-de120fa607d2",
        "colab": {
          "base_uri": "https://localhost:8080/",
          "height": 655
        }
      },
      "source": [
        "course_map"
      ],
      "execution_count": 0,
      "outputs": [
        {
          "output_type": "execute_result",
          "data": {
            "text/plain": [
              "{'ARTIFICIAL INTELLIGENCE   ': '15B11CI514',\n",
              " 'ARTIFICIAL INTELLIGENCE   LAB': '15B17CI574',\n",
              " 'BASIC NUMERICAL METHODS': '17B1NMA531',\n",
              " 'BIO-MATERIALS SCIENCE': '16B1NPH534',\n",
              " 'CELL CULTURE LAB ': '15B17BT571 ',\n",
              " 'CELL CULTURE TECHNOLOGY ': '15B11BT511 ',\n",
              " 'CLOUD BASED ENTERPRISE SYSTEMS': '15B22CI521',\n",
              " 'CLOUD BASED ENTERPRISE SYSTEMS LAB': '15B28CI581',\n",
              " 'COMPUTER NETWORKS': '15B11CI511',\n",
              " 'COMPUTER NETWORKS LAB': '15B17CI571',\n",
              " 'DIGITAL COMMUNICATIONS ': '15B11EC511',\n",
              " 'DIGITAL COMMUNICATIONS LAB': '15B17EC571',\n",
              " 'DISCRETE MATHEMATICS': '16B1NMA531',\n",
              " 'ELETROMAGNETIC THEORY': '15B11EC612',\n",
              " 'ENTREPRENURIAL DEVELOPMENT ': '19B12HS311',\n",
              " 'ENVIRONMENTAL SCIENCE': '15B11GE301',\n",
              " 'FERMENTATION AND DOWNSTREAM LAB ': '15B17BT572 ',\n",
              " 'FERMENTATION AND DOWNSTREAM PROCESSING ': '15B11BT512 ',\n",
              " 'INDIAN POLITY AND CONSTITUTIONAL DEMOCRACY IN INDIA': '18B12HS612',\n",
              " 'INFORMATION SECURITY LAB': '15B17CI576',\n",
              " 'IT PRACTICE LAB ': '16B17BT571 ',\n",
              " 'LASER TECHNOLOGY AND APPLICATIONS': '16B1NPH533',\n",
              " 'MATERIALS SCIENCE': '16B1NPH532',\n",
              " 'MATRIX COMPUTATIONS': '16B1NMA533',\n",
              " 'MULTIMEDIA LAB': '15B28CI582',\n",
              " 'NUCLEAR SCIENCE AND ENGINEERING': '16B1NPH535',\n",
              " 'OPEN SOURCE SOFTWARE LAB': '15B17CI575',\n",
              " 'PLANNING AND ECONOMIC DEVELOPMENT': '16B1NHS532',\n",
              " 'PLANT TISSUE CULTURE LAB ': '15B17BT573 ',\n",
              " 'PRINCIPLES OF MANAGEMENT': '15B1NHS434',\n",
              " 'QUANTUM MECHANICS FOR ENGINEERS': '16B1NPH531',\n",
              " 'SOCIOLOGY OF YOUTH': '16B1NHS531',\n",
              " 'SOFTWARE ENGINEERING': '15B11CI513',\n",
              " 'SOFTWARE ENGINEERING LAB': '15B17CI573',\n",
              " 'STRATEGIC HUMAN RESOURCE MANAGEMENT': '18B12HS311',\n",
              " 'TECHNOLOGY AND CULTURE': '17B1NHS531',\n",
              " 'THEORY OF NUMBERS': '16B1NMA731',\n",
              " 'UNIX PROGRAMING LAB': '15B17CI579'}"
            ]
          },
          "metadata": {
            "tags": []
          },
          "execution_count": 11
        }
      ]
    },
    {
      "cell_type": "code",
      "metadata": {
        "id": "WFnX3G0iKMrq",
        "colab_type": "code",
        "colab": {}
      },
      "source": [
        "import json"
      ],
      "execution_count": 0,
      "outputs": []
    },
    {
      "cell_type": "code",
      "metadata": {
        "id": "J0OtveJWGM0Y",
        "colab_type": "code",
        "colab": {}
      },
      "source": [
        "with open('courses.json'  , 'w') as fp:\n",
        "  json.dump(course_map , fp)"
      ],
      "execution_count": 0,
      "outputs": []
    },
    {
      "cell_type": "code",
      "metadata": {
        "id": "3AllREL4Bl3m",
        "colab_type": "code",
        "colab": {}
      },
      "source": [
        "day_map = {\n",
        "    'monday' : 0,\n",
        "    'tuesday' : 1,\n",
        "    'wednesday' : 2,\n",
        "    'thursday' : 3,\n",
        "    'friday' : 4,\n",
        "    'saturday' : 5\n",
        "}"
      ],
      "execution_count": 0,
      "outputs": []
    },
    {
      "cell_type": "code",
      "metadata": {
        "id": "8f4hJxVE4mk4",
        "colab_type": "code",
        "colab": {}
      },
      "source": [
        "dataframe_map = {\n",
        "    'monday' : monday_df,\n",
        "    'tuesday' : tuesday_df,\n",
        "    'wednesday' : wednesday_df,\n",
        "    'thursday' : thursday_df,\n",
        "    'friday' : friday_df,\n",
        "    'saturday' : saturday_df,\n",
        "}"
      ],
      "execution_count": 0,
      "outputs": []
    },
    {
      "cell_type": "code",
      "metadata": {
        "id": "iAHB4fI6SvIS",
        "colab_type": "code",
        "colab": {}
      },
      "source": [
        "teaching_type = {\n",
        "    'L' : {\n",
        "        'category' : 'Lecture',\n",
        "        'time' : 1\n",
        "    },\n",
        "    'T' : {\n",
        "        'category' : 'Tutorial',\n",
        "        'time' : 1\n",
        "    },\n",
        "    'P' : {\n",
        "        'category' : 'Practical',\n",
        "        'time' : 2\n",
        "    }\n",
        "}"
      ],
      "execution_count": 0,
      "outputs": []
    },
    {
      "cell_type": "code",
      "metadata": {
        "id": "py7GCutjbCEV",
        "colab_type": "code",
        "colab": {}
      },
      "source": [
        "enrolled_courses = [\n",
        "    course_map['INFORMATION SECURITY LAB'],\n",
        "    course_map['OPEN SOURCE SOFTWARE LAB'],\n",
        "    course_map['TECHNOLOGY AND CULTURE'],\n",
        "    course_map['COMPUTER NETWORKS LAB'],\n",
        "    course_map['SOFTWARE ENGINEERING LAB'],\n",
        "    course_map['COMPUTER NETWORKS'],\n",
        "    course_map['SOFTWARE ENGINEERING'],\n",
        "    course_map['THEORY OF NUMBERS']\n",
        "]"
      ],
      "execution_count": 0,
      "outputs": []
    },
    {
      "cell_type": "code",
      "metadata": {
        "id": "BYul2SWwjpit",
        "colab_type": "code",
        "outputId": "6138357c-0370-4c78-8c44-b26d2a8d861e",
        "colab": {
          "base_uri": "https://localhost:8080/",
          "height": 151
        }
      },
      "source": [
        "enrolled_courses"
      ],
      "execution_count": 0,
      "outputs": [
        {
          "output_type": "execute_result",
          "data": {
            "text/plain": [
              "['15B17CI576',\n",
              " '15B17CI575',\n",
              " '17B1NHS531',\n",
              " '15B17CI571',\n",
              " '15B17CI573',\n",
              " '15B11CI511',\n",
              " '15B11CI513',\n",
              " '16B1NMA731']"
            ]
          },
          "metadata": {
            "tags": []
          },
          "execution_count": 18
        }
      ]
    },
    {
      "cell_type": "code",
      "metadata": {
        "id": "XEnYYEaRVX3A",
        "colab_type": "code",
        "colab": {}
      },
      "source": [
        "req = {\n",
        "    'batch' : 'B6',\n",
        "    'day' : 'saturday',\n",
        "    'enrolled_courses' : enrolled_courses\n",
        "}"
      ],
      "execution_count": 0,
      "outputs": []
    },
    {
      "cell_type": "code",
      "metadata": {
        "id": "CZqeHxwIWNew",
        "colab_type": "code",
        "outputId": "d0f5e264-133e-439e-85be-8a23c81ee9d8",
        "colab": {
          "base_uri": "https://localhost:8080/",
          "height": 178
        }
      },
      "source": [
        "with open('request.json') as fp:\n",
        "  data = json.load(fp)"
      ],
      "execution_count": 0,
      "outputs": [
        {
          "output_type": "error",
          "ename": "FileNotFoundError",
          "evalue": "ignored",
          "traceback": [
            "\u001b[0;31m---------------------------------------------------------------------------\u001b[0m",
            "\u001b[0;31mFileNotFoundError\u001b[0m                         Traceback (most recent call last)",
            "\u001b[0;32m<ipython-input-20-25f79c004569>\u001b[0m in \u001b[0;36m<module>\u001b[0;34m()\u001b[0m\n\u001b[0;32m----> 1\u001b[0;31m \u001b[0;32mwith\u001b[0m \u001b[0mopen\u001b[0m\u001b[0;34m(\u001b[0m\u001b[0;34m'request.json'\u001b[0m\u001b[0;34m)\u001b[0m \u001b[0;32mas\u001b[0m \u001b[0mfp\u001b[0m\u001b[0;34m:\u001b[0m\u001b[0;34m\u001b[0m\u001b[0;34m\u001b[0m\u001b[0m\n\u001b[0m\u001b[1;32m      2\u001b[0m   \u001b[0mdata\u001b[0m \u001b[0;34m=\u001b[0m \u001b[0mjson\u001b[0m\u001b[0;34m.\u001b[0m\u001b[0mload\u001b[0m\u001b[0;34m(\u001b[0m\u001b[0mfp\u001b[0m\u001b[0;34m)\u001b[0m\u001b[0;34m\u001b[0m\u001b[0;34m\u001b[0m\u001b[0m\n",
            "\u001b[0;31mFileNotFoundError\u001b[0m: [Errno 2] No such file or directory: 'request.json'"
          ]
        }
      ]
    },
    {
      "cell_type": "code",
      "metadata": {
        "id": "W4oYRQXkWlWA",
        "colab_type": "code",
        "outputId": "780faa7f-c6ea-4273-d4a5-98d8c840ca4e",
        "colab": {
          "base_uri": "https://localhost:8080/",
          "height": 185
        }
      },
      "source": [
        "data"
      ],
      "execution_count": 0,
      "outputs": [
        {
          "output_type": "execute_result",
          "data": {
            "text/plain": [
              "{'batch': 'B6',\n",
              " 'day': 'friday',\n",
              " 'enrolled_courses': ['15B17CI576',\n",
              "  '15B17CI575',\n",
              "  '17B1NHS531',\n",
              "  '15B17CI571',\n",
              "  '15B17CI573',\n",
              "  '15B11CI511',\n",
              "  '15B11CI513',\n",
              "  '16B1NMA731']}"
            ]
          },
          "metadata": {
            "tags": []
          },
          "execution_count": 41
        }
      ]
    },
    {
      "cell_type": "code",
      "metadata": {
        "id": "v4xn1r_yThFN",
        "colab_type": "code",
        "colab": {}
      },
      "source": [
        "def parse_batch_details(batches):\n",
        "  teach_method = teaching_type[batches[0]]\n",
        "  batches = batches[1:]\n",
        "  unstable_batch_list = batches.split(',')\n",
        "  batch_buffers = extract_buffer(unstable_batch_list)\n",
        "  return batch_buffers , teach_method"
      ],
      "execution_count": 0,
      "outputs": []
    },
    {
      "cell_type": "code",
      "metadata": {
        "id": "ufJD3NKUL2DX",
        "colab_type": "code",
        "colab": {}
      },
      "source": [
        "def timetable_api_v1(day , batch_full , enrolled_courses):\n",
        "  batch_abb = batch_full[0]\n",
        "  batch_no = int(batch_full[1:])\n",
        "  timing = []\n",
        "  flag = True\n",
        "  for label , item in dataframe_map[day].iteritems():\n",
        "    item_list = item.tolist()\n",
        "    for data in item_list:\n",
        "      data_list = {}\n",
        "      if str(data) != 'nan':\n",
        "        data = data.replace('((' , '(').replace('+' , ',').split('(')\n",
        "        batches = data[0]\n",
        "        buffered_data , teach_method = parse_batch_details(batches)\n",
        "        residue = data[1].split(')')\n",
        "        course = residue[0]\n",
        "        residue = residue[1].split('/')\n",
        "        faculty = residue[1]\n",
        "        room = residue[0][1:]\n",
        "        for enrolled in enrolled_courses:\n",
        "          flag = course[-5:] in enrolled\n",
        "          if flag:\n",
        "            course = enrolled\n",
        "            break\n",
        "        if((batch_no in buffered_data[batch_abb]) and flag):\n",
        "          data_list['course'] = [key for key , value in course_map.items() if value == course][0]\n",
        "          data_list['faculty'] = faculty\n",
        "          data_list['room'] = room\n",
        "          data_list['time'] = int(label.split('-')[0])\n",
        "          data_list['type'] = teaching_type[batches[0]]\n",
        "          timing.append(data_list)\n",
        "          \n",
        "  return timing"
      ],
      "execution_count": 0,
      "outputs": []
    },
    {
      "cell_type": "code",
      "metadata": {
        "id": "mWyx-lAlrR5z",
        "colab_type": "code",
        "colab": {}
      },
      "source": [
        "tables = timetable_api_v1(req['day'] , req['batch'] , req['enrolled_courses'])"
      ],
      "execution_count": 0,
      "outputs": []
    },
    {
      "cell_type": "code",
      "metadata": {
        "id": "Lfngc_SlrdGw",
        "colab_type": "code",
        "outputId": "5c80b7e0-bcf6-47b9-9982-e860d329b8b0",
        "colab": {
          "base_uri": "https://localhost:8080/",
          "height": 101
        }
      },
      "source": [
        "tables"
      ],
      "execution_count": 0,
      "outputs": [
        {
          "output_type": "execute_result",
          "data": {
            "text/plain": [
              "[{'course': 'OPEN SOURCE SOFTWARE LAB',\n",
              "  'faculty': 'AV,DSI,IC,MGR',\n",
              "  'room': 'CL2',\n",
              "  'time': 11,\n",
              "  'type': {'category': 'Practical', 'time': 2}}]"
            ]
          },
          "metadata": {
            "tags": []
          },
          "execution_count": 30
        }
      ]
    },
    {
      "cell_type": "code",
      "metadata": {
        "id": "j2w-t2givmdh",
        "colab_type": "code",
        "colab": {}
      },
      "source": [
        "batch_size_utility = {\n",
        "    'A' : 10,\n",
        "    'B' : 14,\n",
        "    'C' : 3\n",
        "}"
      ],
      "execution_count": 0,
      "outputs": []
    },
    {
      "cell_type": "code",
      "metadata": {
        "id": "JOETyRSGc-Pi",
        "colab_type": "code",
        "colab": {}
      },
      "source": [
        "def extract_buffer(unstable_batch_list):\n",
        "  batch_buffers = {\n",
        "    'A' : [],\n",
        "    'B' : [],\n",
        "    'C' : []\n",
        "  }\n",
        "  curr_batch = ''\n",
        "  for it in unstable_batch_list:\n",
        "    start_index = 0\n",
        "    end_index = 0\n",
        "    if(it[0] == 'A' or it[0] == 'B' or it[0] == 'C'):\n",
        "      curr_batch = it[0]\n",
        "      if len(it) > 1 :\n",
        "        batch_nos = it[1:]\n",
        "      else:\n",
        "        batch_nos = curr_batch\n",
        "      if(batch_nos[0] == 'A' or batch_nos[0] == 'B' or batch_nos[0] == 'C'):\n",
        "        for bat in it:\n",
        "          for i in range(1 , batch_size_utility[bat] + 1):\n",
        "            batch_buffers[bat].append(i)\n",
        "      else:\n",
        "        bounded_batch = batch_nos.split('-')\n",
        "        if len(bounded_batch) == 2:\n",
        "          start_index = int(bounded_batch[0])\n",
        "          end_index = int(bounded_batch[1])\n",
        "        else:\n",
        "          end_index = int(bounded_batch[0])\n",
        "          start_index = end_index\n",
        "        for i in range(start_index , end_index + 1):\n",
        "          batch_buffers[curr_batch].append(i)\n",
        "\n",
        "    else:\n",
        "      batch_nos = it\n",
        "      bounded_batch = batch_nos.split('-')\n",
        "      if len(bounded_batch) == 2:\n",
        "        start_index = int(bounded_batch[0])\n",
        "        end_index = int(bounded_batch[1])\n",
        "      else:\n",
        "        end_index = int(bounded_batch[0])\n",
        "        start_index = end_index\n",
        "      for i in range(start_index , end_index + 1):\n",
        "        batch_buffers[curr_batch].append(i)\n",
        "  \n",
        "  return batch_buffers"
      ],
      "execution_count": 0,
      "outputs": []
    },
    {
      "cell_type": "code",
      "metadata": {
        "id": "HgqEUia7HbpJ",
        "colab_type": "code",
        "colab": {}
      },
      "source": [
        ""
      ],
      "execution_count": 0,
      "outputs": []
    }
  ]
}